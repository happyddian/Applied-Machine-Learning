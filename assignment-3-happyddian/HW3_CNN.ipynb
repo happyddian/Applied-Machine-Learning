{
 "cells": [
  {
   "cell_type": "markdown",
   "id": "d9bcdbd2-3401-41ad-a83f-830e9346e607",
   "metadata": {
    "id": "d9bcdbd2-3401-41ad-a83f-830e9346e607"
   },
   "source": [
    "# Homework 3: Convolutional Neural Networks\n",
    "\n",
    "Due Wednesday 11/24 at 11:59 pm EST"
   ]
  },
  {
   "cell_type": "markdown",
   "id": "8da8daa7-f0cf-47f8-bc5f-6eb13573891c",
   "metadata": {
    "id": "8da8daa7-f0cf-47f8-bc5f-6eb13573891c"
   },
   "source": [
    "Download the dataset `cats-notcats` from github (given as a part of the assignment). This dataset has images of cats and images that are not cats (in separate folders). The task is to train a convolutional neural network (CNN) to build a classifier that can classify a new image as either `cat` or `not cat`"
   ]
  },
  {
   "cell_type": "markdown",
   "id": "fafa37c4-c8fc-4697-9bbe-11539d710bf7",
   "metadata": {
    "id": "fafa37c4-c8fc-4697-9bbe-11539d710bf7"
   },
   "source": [
    "1. Load the dataset and create three stratified splits - train/validation/test in the ratio of 70/10/20. "
   ]
  },
  {
   "cell_type": "code",
   "execution_count": null,
   "id": "f3c73290",
   "metadata": {
    "id": "f3c73290"
   },
   "outputs": [],
   "source": [
    "import os\n",
    "import cv2\n",
    "import re\n",
    "import tensorflow as tf\n",
    "from tensorflow.keras import datasets, layers, models\n",
    "from tensorflow.keras.preprocessing.image import ImageDataGenerator\n",
    "import matplotlib.pyplot as plt\n",
    "import seaborn as sns\n",
    "import numpy as np\n",
    "from sklearn.model_selection import train_test_split"
   ]
  },
  {
   "cell_type": "code",
   "execution_count": null,
   "id": "44c960f9-2bf7-4187-8b98-a5646b2ef64a",
   "metadata": {
    "id": "44c960f9-2bf7-4187-8b98-a5646b2ef64a"
   },
   "outputs": [],
   "source": [
    "#code here\n",
    "input_size = (128,128)\n",
    "cat = [] \n",
    "not_cat = []\n",
    "def read_directory(directory_name,l):\n",
    "    for filename in os.listdir(r\"./\"+directory_name):\n",
    "        if re.search(r'[0-9]',filename):\n",
    "            img = cv2.imread(directory_name + \"/\" + filename)\n",
    "            # img = cv2.imread(directory_name + \"/\" + filename,cv2.IMREAD_GRAYSCALE)\n",
    "            img = cv2.resize(img,input_size)\n",
    "            l.append(img)\n",
    "    return l\n",
    "file_cat = 'data/cats-notcats/cats'\n",
    "file_no_cat = 'data/cats-notcats/notcats'\n",
    "cat = read_directory(file_cat,cat)\n",
    "not_cat = read_directory(file_no_cat,not_cat)\n",
    "input_fig = cat+not_cat\n",
    "\n",
    "target = [1]*len(cat)+[0]*len(not_cat)"
   ]
  },
  {
   "cell_type": "code",
   "execution_count": null,
   "id": "41bc393d",
   "metadata": {
    "id": "41bc393d"
   },
   "outputs": [],
   "source": [
    "X_dev,X_test,y_dev,y_test = train_test_split(cat+not_cat,target,test_size = 0.2,stratify=target, random_state=123)\n",
    "X_train,X_val,y_train,y_val = train_test_split(X_dev,y_dev,test_size = 0.125,stratify=y_dev, random_state=123)"
   ]
  },
  {
   "cell_type": "code",
   "execution_count": null,
   "id": "3cc6859c",
   "metadata": {
    "id": "3cc6859c"
   },
   "outputs": [],
   "source": [
    "# X_dev = np.asarray(X_dev).astype(np.float32)\n",
    "# y_dev = np.asarray(y_dev).astype(np.float32)\n",
    "X_train = np.asarray(X_train).astype(np.float32)\n",
    "y_train = np.asarray(y_train).astype(np.float32)\n",
    "X_val = np.asarray(X_val).astype(np.float32)\n",
    "y_val = np.asarray(y_val).astype(np.float32)\n",
    "X_test = np.asarray(X_test).astype(np.float32)\n",
    "y_test = np.asarray(y_test).astype(np.float32)"
   ]
  },
  {
   "cell_type": "code",
   "execution_count": null,
   "id": "3244dd67",
   "metadata": {
    "id": "3244dd67"
   },
   "outputs": [],
   "source": [
    "X_train = X_train.reshape(X_train.shape[0],input_size[0],input_size[1],3)\n",
    "X_val = X_val.reshape(X_val.shape[0],input_size[0],input_size[1],3)\n",
    "X_test = X_test.reshape(X_test.shape[0],input_size[0],input_size[1],3)"
   ]
  },
  {
   "cell_type": "code",
   "execution_count": null,
   "id": "0UeLEXkIwHYb",
   "metadata": {
    "id": "0UeLEXkIwHYb"
   },
   "outputs": [],
   "source": [
    "train_datagen = ImageDataGenerator( rescale = 1./255)\n",
    "val_datagen = ImageDataGenerator( rescale = 1./255)\n",
    "train_generator = train_datagen.flow(X_train,y_train)\n",
    "val_generator = val_datagen.flow(X_val,y_val)"
   ]
  },
  {
   "cell_type": "markdown",
   "id": "e29a4db3-129d-4863-b470-024003f75e04",
   "metadata": {
    "id": "e29a4db3-129d-4863-b470-024003f75e04"
   },
   "source": [
    "2. Create a CNN that has the following hidden layers:\n",
    "\n",
    "    a. 2D convolution layer with a 3x3 kernel size, has 128 filters, stride of 1 and padded to yield the same size as input, followed by a ReLU activation layer\n",
    "    \n",
    "    b. Max pooling layer of 2x2\n",
    "    \n",
    "    c. Dense layer with 128 dimensions and ReLU as the activation layer"
   ]
  },
  {
   "cell_type": "code",
   "execution_count": null,
   "id": "7b417843-ffc4-4614-b2ef-964f8ec3e510",
   "metadata": {
    "id": "7b417843-ffc4-4614-b2ef-964f8ec3e510"
   },
   "outputs": [],
   "source": [
    "#code here\n",
    "num_classes = 2\n",
    "input_shape = (128,128,3)\n",
    "y_train = tf.keras.utils.to_categorical(y_train, num_classes)\n",
    "y_val = tf.keras.utils.to_categorical(y_val, num_classes)\n",
    "y_test = tf.keras.utils.to_categorical(y_test, num_classes)\n",
    "cnn = models.Sequential()\n",
    "cnn.add(layers.Conv2D(128,kernel_size = (3,3),activation = 'relu',padding = 'same',strides=1,input_shape = input_shape))\n",
    "cnn.add(layers.MaxPooling2D(pool_size = (2,2)))\n",
    "cnn.add(layers.Flatten())\n",
    "cnn.add(layers.Dense(128,activation = 'relu'))\n",
    "cnn.add(layers.Dense(1,activation = 'sigmoid'))\n",
    "# cnn.add(layers.Dense(2,activation = 'softmax'))"
   ]
  },
  {
   "cell_type": "markdown",
   "id": "fb56c38b-a22b-4db7-bdad-ef70e0fb1b1d",
   "metadata": {
    "id": "fb56c38b-a22b-4db7-bdad-ef70e0fb1b1d"
   },
   "source": [
    "3. Train the classifier for 20 epochs with 100 steps per epoch. Also use the validation data during training the estimator."
   ]
  },
  {
   "cell_type": "code",
   "execution_count": null,
   "id": "1d670613",
   "metadata": {
    "id": "1d670613"
   },
   "outputs": [],
   "source": [
    "# cnn.compile(\"adam\",'categorical_crossentropy',metrics = ['accuracy'])\n",
    "cnn.compile(\"adam\",'binary_crossentropy',metrics = ['accuracy'])"
   ]
  },
  {
   "cell_type": "code",
   "execution_count": null,
   "id": "i6-wP19O4xxY",
   "metadata": {
    "colab": {
     "base_uri": "https://localhost:8080/"
    },
    "id": "i6-wP19O4xxY",
    "outputId": "f672c026-260a-4743-fcf3-b92020acb421"
   },
   "outputs": [
    {
     "name": "stderr",
     "output_type": "stream",
     "text": [
      "/usr/local/lib/python3.7/dist-packages/ipykernel_launcher.py:2: UserWarning: `Model.fit_generator` is deprecated and will be removed in a future version. Please use `Model.fit`, which supports generators.\n",
      "  \n"
     ]
    },
    {
     "name": "stdout",
     "output_type": "stream",
     "text": [
      "Epoch 1/20\n",
      "100/100 [==============================] - 133s 1s/step - loss: 1.0139 - accuracy: 0.7943 - val_loss: 0.3705 - val_accuracy: 0.8554\n",
      "Epoch 2/20\n",
      "100/100 [==============================] - 132s 1s/step - loss: 0.3411 - accuracy: 0.8684 - val_loss: 0.3535 - val_accuracy: 0.8554\n",
      "Epoch 3/20\n",
      "100/100 [==============================] - 132s 1s/step - loss: 0.2452 - accuracy: 0.9112 - val_loss: 0.3438 - val_accuracy: 0.8607\n",
      "Epoch 4/20\n",
      "100/100 [==============================] - 141s 1s/step - loss: 0.1617 - accuracy: 0.9450 - val_loss: 0.3595 - val_accuracy: 0.8730\n",
      "Epoch 5/20\n",
      "100/100 [==============================] - 135s 1s/step - loss: 0.0973 - accuracy: 0.9687 - val_loss: 0.5539 - val_accuracy: 0.8571\n",
      "Epoch 6/20\n",
      "100/100 [==============================] - 135s 1s/step - loss: 0.0651 - accuracy: 0.9819 - val_loss: 0.4882 - val_accuracy: 0.8607\n",
      "Epoch 7/20\n",
      "100/100 [==============================] - 135s 1s/step - loss: 0.0522 - accuracy: 0.9872 - val_loss: 0.4721 - val_accuracy: 0.8607\n",
      "Epoch 8/20\n",
      "100/100 [==============================] - 136s 1s/step - loss: 0.0255 - accuracy: 0.9950 - val_loss: 0.5849 - val_accuracy: 0.8466\n",
      "Epoch 9/20\n",
      "100/100 [==============================] - 135s 1s/step - loss: 0.0153 - accuracy: 0.9972 - val_loss: 0.5958 - val_accuracy: 0.8554\n",
      "Epoch 10/20\n",
      "100/100 [==============================] - 135s 1s/step - loss: 0.0084 - accuracy: 0.9991 - val_loss: 0.6724 - val_accuracy: 0.8448\n",
      "Epoch 11/20\n",
      "100/100 [==============================] - 135s 1s/step - loss: 0.0051 - accuracy: 0.9991 - val_loss: 0.6452 - val_accuracy: 0.8501\n",
      "Epoch 12/20\n",
      "100/100 [==============================] - 136s 1s/step - loss: 0.0024 - accuracy: 1.0000 - val_loss: 0.6830 - val_accuracy: 0.8466\n",
      "Epoch 13/20\n",
      "100/100 [==============================] - 136s 1s/step - loss: 0.0016 - accuracy: 1.0000 - val_loss: 0.7212 - val_accuracy: 0.8554\n",
      "Epoch 14/20\n",
      "100/100 [==============================] - 137s 1s/step - loss: 0.0012 - accuracy: 1.0000 - val_loss: 0.7149 - val_accuracy: 0.8519\n",
      "Epoch 15/20\n",
      "100/100 [==============================] - 137s 1s/step - loss: 9.6953e-04 - accuracy: 1.0000 - val_loss: 0.7380 - val_accuracy: 0.8571\n",
      "Epoch 16/20\n",
      "100/100 [==============================] - 137s 1s/step - loss: 7.2086e-04 - accuracy: 1.0000 - val_loss: 0.7781 - val_accuracy: 0.8571\n",
      "Epoch 17/20\n",
      "100/100 [==============================] - 137s 1s/step - loss: 5.9373e-04 - accuracy: 1.0000 - val_loss: 0.7667 - val_accuracy: 0.8554\n",
      "Epoch 18/20\n",
      "100/100 [==============================] - 137s 1s/step - loss: 5.0152e-04 - accuracy: 1.0000 - val_loss: 0.7799 - val_accuracy: 0.8571\n",
      "Epoch 19/20\n",
      "100/100 [==============================] - 137s 1s/step - loss: 4.5932e-04 - accuracy: 1.0000 - val_loss: 0.7980 - val_accuracy: 0.8589\n",
      "Epoch 20/20\n",
      "100/100 [==============================] - 137s 1s/step - loss: 3.6346e-04 - accuracy: 1.0000 - val_loss: 0.8213 - val_accuracy: 0.8571\n"
     ]
    }
   ],
   "source": [
    "history = cnn.fit_generator(train_generator,epochs = 20, steps_per_epoch = 100,\n",
    "                      validation_data = val_generator, verbose = 1)"
   ]
  },
  {
   "cell_type": "markdown",
   "id": "bf9ca50f",
   "metadata": {
    "id": "bf9ca50f"
   },
   "source": [
    "4. Plot the accuracy and the loss over epochs for train & validation sets"
   ]
  },
  {
   "cell_type": "code",
   "execution_count": null,
   "id": "kLkYgv4BKIIY",
   "metadata": {
    "colab": {
     "base_uri": "https://localhost:8080/",
     "height": 300
    },
    "id": "kLkYgv4BKIIY",
    "outputId": "aebfc77c-ce9d-43ad-be05-0012b7aa8675"
   },
   "outputs": [
    {
     "data": {
      "text/plain": [
       "(0.5, 1.0)"
      ]
     },
     "execution_count": 34,
     "metadata": {},
     "output_type": "execute_result"
    },
    {
     "data": {
      "image/png": "[encoded data removed]",
      "text/plain": [
       "<Figure size 432x288 with 2 Axes>"
      ]
     },
     "metadata": {
      "needs_background": "light"
     },
     "output_type": "display_data"
    }
   ],
   "source": [
    "fig = plt.figure()\n",
    "ax = fig.add_subplot(111)\n",
    "\n",
    "lns1 = ax.plot(history.history['accuracy'], label='train accuracy')\n",
    "lns2 = ax.plot(history.history['val_accuracy'], label = 'val accuracy')\n",
    "ax2 = ax.twinx()\n",
    "lns3 = ax2.plot(history.history['loss'], '--',label='train loss')\n",
    "lns4 = ax2.plot(history.history['val_loss'], '--',label = 'val loss')\n",
    "\n",
    "# added these three lines\n",
    "lns = lns1+lns2+lns3+lns4\n",
    "labs = [l.get_label() for l in lns]\n",
    "ax.legend(lns, labs, loc=0)\n",
    "\n",
    "ax.grid()\n",
    "ax.set_xlabel(\"Epoch\")\n",
    "ax.set_ylabel(\"Accuracy\")\n",
    "ax2.set_ylabel(\"Loss\")\n",
    "ax2.set_ylim(0, 1)\n",
    "ax.set_ylim(0.5,1)\n"
   ]
  },
  {
   "cell_type": "markdown",
   "id": "26ce5428-94b5-45f1-a08d-9f36dfacfbfb",
   "metadata": {
    "id": "26ce5428-94b5-45f1-a08d-9f36dfacfbfb"
   },
   "source": [
    "5. Add the following layers to (2) before the dense layer:\n",
    "\n",
    "    a. 2D convolution layer with a 3x3 kernel size, has 64 filters, stride of 1 and padded to yield the same size as input, followed by a ReLU activation layer\n",
    "    \n",
    "    b. Max pooling layer of 2x2\n",
    "    \n",
    "    c. 2D convolution layer with a 3x3 kernel size, has 32 filters, stride of 1 and padded to yield the same size as input, followed by a ReLU activation layer\n",
    "    \n",
    "    d. Max pooling layer of 2x2\n",
    "    \n",
    "    e. Dense layer with 256 dimensions and ReLU as the activation layer"
   ]
  },
  {
   "cell_type": "code",
   "execution_count": null,
   "id": "c07e8e76-0caa-41ff-a1da-60d36aad0546",
   "metadata": {
    "id": "c07e8e76-0caa-41ff-a1da-60d36aad0546"
   },
   "outputs": [],
   "source": [
    "#code here\n",
    "cnn = models.Sequential()\n",
    "cnn.add(layers.Conv2D(128,kernel_size = (3,3),activation = 'relu',padding = 'same',strides=1))\n",
    "cnn.add(layers.MaxPooling2D(pool_size = (2,2)))\n",
    "cnn.add(layers.Conv2D(32,kernel_size = (3,3),activation = 'relu',padding = 'same',strides=1))\n",
    "cnn.add(layers.MaxPooling2D(pool_size = (2,2)))\n",
    "cnn.add(layers.Flatten())\n",
    "cnn.add(layers.Dense(128,activation = 'relu'))\n",
    "cnn.add(layers.Dense(1,activation = 'sigmoid'))"
   ]
  },
  {
   "cell_type": "markdown",
   "id": "abb8708e-a2f9-455f-b476-08f1bfdf8e8f",
   "metadata": {
    "id": "abb8708e-a2f9-455f-b476-08f1bfdf8e8f"
   },
   "source": [
    "6. Train the classifier again for 20 epochs with 100 steps per epoch. Also use the validation data during training the estimator."
   ]
  },
  {
   "cell_type": "code",
   "execution_count": null,
   "id": "6b4bc378-d1c4-4c71-ae4c-a0b6b22a9e04",
   "metadata": {
    "colab": {
     "base_uri": "https://localhost:8080/"
    },
    "id": "6b4bc378-d1c4-4c71-ae4c-a0b6b22a9e04",
    "outputId": "9faa1fe1-ea43-4d35-e623-129b4f525954"
   },
   "outputs": [
    {
     "name": "stderr",
     "output_type": "stream",
     "text": [
      "/usr/local/lib/python3.7/dist-packages/ipykernel_launcher.py:5: UserWarning: `Model.fit_generator` is deprecated and will be removed in a future version. Please use `Model.fit`, which supports generators.\n",
      "  \"\"\"\n"
     ]
    },
    {
     "name": "stdout",
     "output_type": "stream",
     "text": [
      "Epoch 1/20\n",
      "100/100 [==============================] - 190s 2s/step - loss: 0.5737 - accuracy: 0.7437 - val_loss: 0.4553 - val_accuracy: 0.7954\n",
      "Epoch 2/20\n",
      "100/100 [==============================] - 188s 2s/step - loss: 0.5054 - accuracy: 0.7890 - val_loss: 0.4169 - val_accuracy: 0.8466\n",
      "Epoch 3/20\n",
      "100/100 [==============================] - 187s 2s/step - loss: 0.4525 - accuracy: 0.8140 - val_loss: 0.4647 - val_accuracy: 0.8219\n",
      "Epoch 4/20\n",
      "100/100 [==============================] - 187s 2s/step - loss: 0.3941 - accuracy: 0.8384 - val_loss: 0.3831 - val_accuracy: 0.8483\n",
      "Epoch 5/20\n",
      "100/100 [==============================] - 187s 2s/step - loss: 0.3515 - accuracy: 0.8587 - val_loss: 0.3493 - val_accuracy: 0.8571\n",
      "Epoch 6/20\n",
      "100/100 [==============================] - 186s 2s/step - loss: 0.3294 - accuracy: 0.8728 - val_loss: 0.3763 - val_accuracy: 0.8536\n",
      "Epoch 7/20\n",
      "100/100 [==============================] - 187s 2s/step - loss: 0.2737 - accuracy: 0.8881 - val_loss: 0.3645 - val_accuracy: 0.8571\n",
      "Epoch 8/20\n",
      "100/100 [==============================] - 185s 2s/step - loss: 0.2083 - accuracy: 0.9181 - val_loss: 0.3399 - val_accuracy: 0.8713\n",
      "Epoch 9/20\n",
      "100/100 [==============================] - 185s 2s/step - loss: 0.1651 - accuracy: 0.9400 - val_loss: 0.4315 - val_accuracy: 0.8448\n",
      "Epoch 10/20\n",
      "100/100 [==============================] - 184s 2s/step - loss: 0.1316 - accuracy: 0.9528 - val_loss: 0.4724 - val_accuracy: 0.8589\n",
      "Epoch 11/20\n",
      "100/100 [==============================] - 185s 2s/step - loss: 0.0907 - accuracy: 0.9694 - val_loss: 0.5567 - val_accuracy: 0.8448\n",
      "Epoch 12/20\n",
      "100/100 [==============================] - 185s 2s/step - loss: 0.0755 - accuracy: 0.9762 - val_loss: 0.6360 - val_accuracy: 0.8571\n",
      "Epoch 13/20\n",
      "100/100 [==============================] - 185s 2s/step - loss: 0.0472 - accuracy: 0.9822 - val_loss: 0.7415 - val_accuracy: 0.8307\n",
      "Epoch 14/20\n",
      "100/100 [==============================] - 186s 2s/step - loss: 0.0258 - accuracy: 0.9925 - val_loss: 0.8824 - val_accuracy: 0.8536\n",
      "Epoch 15/20\n",
      "100/100 [==============================] - 187s 2s/step - loss: 0.0343 - accuracy: 0.9884 - val_loss: 0.8860 - val_accuracy: 0.8272\n",
      "Epoch 16/20\n",
      "100/100 [==============================] - 186s 2s/step - loss: 0.0129 - accuracy: 0.9969 - val_loss: 0.9633 - val_accuracy: 0.8607\n",
      "Epoch 17/20\n",
      "100/100 [==============================] - 186s 2s/step - loss: 0.0259 - accuracy: 0.9912 - val_loss: 0.9233 - val_accuracy: 0.8377\n",
      "Epoch 18/20\n",
      "100/100 [==============================] - 186s 2s/step - loss: 0.0303 - accuracy: 0.9912 - val_loss: 1.0714 - val_accuracy: 0.8430\n",
      "Epoch 19/20\n",
      "100/100 [==============================] - 185s 2s/step - loss: 0.0420 - accuracy: 0.9859 - val_loss: 0.7716 - val_accuracy: 0.8448\n",
      "Epoch 20/20\n",
      "100/100 [==============================] - 184s 2s/step - loss: 0.0162 - accuracy: 0.9962 - val_loss: 1.0823 - val_accuracy: 0.8483\n"
     ]
    }
   ],
   "source": [
    "#code here\n",
    "# cnn.compile(\"adam\",'categorical_crossentropy',metrics = ['accuracy'])\n",
    "cnn.compile(\"adam\",'binary_crossentropy',metrics = ['accuracy'])\n",
    "history = cnn.fit_generator(train_generator,epochs = 20, steps_per_epoch = 100,\n",
    "                      validation_data = val_generator,verbose = 1)"
   ]
  },
  {
   "cell_type": "markdown",
   "id": "e4c95d51-b223-4040-b85e-b3cd0e71b7ab",
   "metadata": {
    "id": "e4c95d51-b223-4040-b85e-b3cd0e71b7ab"
   },
   "source": [
    "7. Plot the accuracy and the loss over epochs for train & validation sets"
   ]
  },
  {
   "cell_type": "code",
   "execution_count": null,
   "id": "ab945671-a5f4-43b9-ba1d-0355105f1eb3",
   "metadata": {
    "colab": {
     "base_uri": "https://localhost:8080/",
     "height": 300
    },
    "id": "ab945671-a5f4-43b9-ba1d-0355105f1eb3",
    "outputId": "cb15eb67-db73-4fc7-b529-a19ffda96aa8"
   },
   "outputs": [
    {
     "data": {
      "text/plain": [
       "(0.5, 1.0)"
      ]
     },
     "execution_count": 42,
     "metadata": {},
     "output_type": "execute_result"
    },
    {
     "data": {
      "image/png": "[encoded data removed]",
      "text/plain": [
       "<Figure size 432x288 with 2 Axes>"
      ]
     },
     "metadata": {
      "needs_background": "light"
     },
     "output_type": "display_data"
    }
   ],
   "source": [
    "#code here\n",
    "fig = plt.figure()\n",
    "ax = fig.add_subplot(111)\n",
    "\n",
    "lns1 = ax.plot(history.history['accuracy'], label='train accuracy')\n",
    "lns2 = ax.plot(history.history['val_accuracy'], label = 'val accuracy')\n",
    "ax2 = ax.twinx()\n",
    "lns3 = ax2.plot(history.history['loss'], '--',label='train loss')\n",
    "lns4 = ax2.plot(history.history['val_loss'], '--',label = 'val loss')\n",
    "\n",
    "# added these three lines\n",
    "lns = lns1+lns2+lns3+lns4\n",
    "labs = [l.get_label() for l in lns]\n",
    "ax.legend(lns, labs, loc=0)\n",
    "\n",
    "ax.grid()\n",
    "ax.set_xlabel(\"Epoch\")\n",
    "ax.set_ylabel(\"Accuracy\")\n",
    "ax2.set_ylabel(\"Loss\")\n",
    "ax2.set_ylim(0, 1.2)\n",
    "ax.set_ylim(0.5,1)"
   ]
  }
 ],
 "metadata": {
  "colab": {
   "name": "HW3_CNN.ipynb",
   "provenance": []
  },
  "kernelspec": {
   "display_name": "Python 3 (ipykernel)",
   "language": "python",
   "name": "python3"
  },
  "language_info": {
   "codemirror_mode": {
    "name": "ipython",
    "version": 3
   },
   "file_extension": ".py",
   "mimetype": "text/x-python",
   "name": "python",
   "nbconvert_exporter": "python",
   "pygments_lexer": "ipython3",
   "version": "3.8.10"
  }
 },
 "nbformat": 4,
 "nbformat_minor": 5
}
