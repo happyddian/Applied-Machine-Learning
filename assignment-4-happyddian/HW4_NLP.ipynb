{
 "cells": [
  {
   "cell_type": "markdown",
   "id": "d9bcdbd2-3401-41ad-a83f-830e9346e607",
   "metadata": {
    "id": "d9bcdbd2-3401-41ad-a83f-830e9346e607"
   },
   "source": [
    "# Applied Machine Learning Homework 4\n",
    "Due 12/15/21 11:59PM EST"
   ]
  },
  {
   "cell_type": "markdown",
   "id": "70df26be-5638-4b0d-a252-4437eb76aa46",
   "metadata": {
    "id": "70df26be-5638-4b0d-a252-4437eb76aa46"
   },
   "source": [
    "### Q1: Natural Language Processing"
   ]
  },
  {
   "cell_type": "markdown",
   "id": "8da8daa7-f0cf-47f8-bc5f-6eb13573891c",
   "metadata": {
    "id": "8da8daa7-f0cf-47f8-bc5f-6eb13573891c"
   },
   "source": [
    "We will train a supervised training model to predict if a tweet has a positive or negative sentiment."
   ]
  },
  {
   "cell_type": "markdown",
   "id": "2e0d9a19-25ea-4490-b0e8-7909bcdc3d9d",
   "metadata": {
    "id": "2e0d9a19-25ea-4490-b0e8-7909bcdc3d9d"
   },
   "source": [
    "#### Dataset loading & dev/test splits"
   ]
  },
  {
   "cell_type": "markdown",
   "id": "fafa37c4-c8fc-4697-9bbe-11539d710bf7",
   "metadata": {
    "id": "fafa37c4-c8fc-4697-9bbe-11539d710bf7"
   },
   "source": [
    "1.1) Load the twitter dataset from NLTK library"
   ]
  },
  {
   "cell_type": "code",
   "execution_count": 1,
   "id": "5f4ce405-237b-42d2-9c81-25ff28deaf4a",
   "metadata": {
    "id": "5f4ce405-237b-42d2-9c81-25ff28deaf4a",
    "outputId": "1ddd96c2-a8e1-43dd-f17e-f5457fbc3bd9"
   },
   "outputs": [
    {
     "name": "stderr",
     "output_type": "stream",
     "text": [
      "[nltk_data] Downloading package twitter_samples to\n",
      "[nltk_data]     C:\\Users\\HP\\AppData\\Roaming\\nltk_data...\n",
      "[nltk_data]   Package twitter_samples is already up-to-date!\n"
     ]
    }
   ],
   "source": [
    "import nltk\n",
    "nltk.download('twitter_samples')\n",
    "from nltk.corpus import twitter_samples "
   ]
  },
  {
   "cell_type": "markdown",
   "id": "c41d62ce-3c78-4b6c-9238-111d990d170f",
   "metadata": {
    "id": "c41d62ce-3c78-4b6c-9238-111d990d170f"
   },
   "source": [
    "1.2) Load the positive & negative tweets"
   ]
  },
  {
   "cell_type": "code",
   "execution_count": 2,
   "id": "b92fb408-f72a-4c23-acd8-7c944a52edd3",
   "metadata": {
    "id": "b92fb408-f72a-4c23-acd8-7c944a52edd3"
   },
   "outputs": [],
   "source": [
    "all_positive_tweets = twitter_samples.strings('positive_tweets.json')\n",
    "all_negative_tweets = twitter_samples.strings('negative_tweets.json')"
   ]
  },
  {
   "cell_type": "markdown",
   "id": "12eae071-fd8a-4a46-9958-0525c635fd88",
   "metadata": {
    "id": "12eae071-fd8a-4a46-9958-0525c635fd88"
   },
   "source": [
    "1.3) Create a development & test split (80/20 ratio):"
   ]
  },
  {
   "cell_type": "code",
   "execution_count": 3,
   "id": "0f3673db-d7a8-470b-a3d3-f4522cd359b8",
   "metadata": {
    "id": "0f3673db-d7a8-470b-a3d3-f4522cd359b8"
   },
   "outputs": [],
   "source": [
    "#code here\n",
    "label = [1]*len(all_positive_tweets)+[0]*len(all_negative_tweets)\n",
    "from sklearn.model_selection import train_test_split\n",
    "X_dev,X_test,y_dev,y_test = train_test_split(all_positive_tweets+all_negative_tweets,\n",
    "                                             label,test_size=0.2,stratify=label,random_state=123)"
   ]
  },
  {
   "cell_type": "markdown",
   "id": "32b23398-e80e-4624-b89e-c02fabfd3f8d",
   "metadata": {
    "id": "32b23398-e80e-4624-b89e-c02fabfd3f8d"
   },
   "source": [
    "#### Data preprocessing"
   ]
  },
  {
   "cell_type": "markdown",
   "id": "abe84444-3839-42f6-99e6-33126f10df9b",
   "metadata": {
    "id": "abe84444-3839-42f6-99e6-33126f10df9b"
   },
   "source": [
    "We will do some data preprocessing before we tokenize the data. We will remove `#` symbol, hyperlinks, stop words & punctuations from the data. You can use the `re` package in python to find and replace these strings. "
   ]
  },
  {
   "cell_type": "markdown",
   "id": "f89d9d69-1640-4583-a7b7-7ec04ccf3310",
   "metadata": {
    "id": "f89d9d69-1640-4583-a7b7-7ec04ccf3310"
   },
   "source": [
    "1.4) Replace the `#` symbol with '' in every tweet"
   ]
  },
  {
   "cell_type": "code",
   "execution_count": 4,
   "id": "5db4dd6d-e775-49d3-96e1-57620c042d46",
   "metadata": {
    "id": "5db4dd6d-e775-49d3-96e1-57620c042d46"
   },
   "outputs": [],
   "source": [
    "#code here\n",
    "X_dev = [tweet.replace('#','') for tweet in X_dev]\n",
    "X_test = [tweet.replace('#','') for tweet in X_test]"
   ]
  },
  {
   "cell_type": "markdown",
   "id": "24c4caa8-d71d-46a8-8859-a8e85c56acfe",
   "metadata": {
    "id": "24c4caa8-d71d-46a8-8859-a8e85c56acfe"
   },
   "source": [
    "1.5) Replace hyperlinks with '' in every tweet"
   ]
  },
  {
   "cell_type": "code",
   "execution_count": 5,
   "id": "ff5a7411-df49-427b-adef-5e8e63224db0",
   "metadata": {
    "id": "ff5a7411-df49-427b-adef-5e8e63224db0"
   },
   "outputs": [],
   "source": [
    "#code here\n",
    "import re\n",
    "X_dev = [re.sub(r\"http\\S+\", \"\", tweet) for tweet in X_dev]\n",
    "X_test = [re.sub(r\"http\\S+\", \"\", tweet) for tweet in X_test]"
   ]
  },
  {
   "cell_type": "markdown",
   "id": "492ae463-b611-4292-9ad2-b778856bf8bc",
   "metadata": {
    "id": "492ae463-b611-4292-9ad2-b778856bf8bc"
   },
   "source": [
    "1.6) Remove all stop words"
   ]
  },
  {
   "cell_type": "code",
   "execution_count": 6,
   "id": "961d73fd-a662-46f2-85a2-83bf6b978189",
   "metadata": {
    "id": "961d73fd-a662-46f2-85a2-83bf6b978189"
   },
   "outputs": [],
   "source": [
    "#code here\n",
    "from nltk.tokenize import word_tokenize\n",
    "from nltk.corpus import stopwords\n",
    "def remove_stopwords(sentence):\n",
    "    words = word_tokenize(sentence)\n",
    "    words = [w for w in words if w not in stopwords.words('english')]\n",
    "    return ' '.join(words)\n",
    "X_dev = [remove_stopwords(x) for x in X_dev]\n",
    "X_test = [remove_stopwords(x) for x in X_test]"
   ]
  },
  {
   "cell_type": "markdown",
   "id": "169bf8ad-f7ba-4e67-a1a0-92fcdd193ab9",
   "metadata": {
    "id": "169bf8ad-f7ba-4e67-a1a0-92fcdd193ab9"
   },
   "source": [
    "1.7) Remove all punctuations"
   ]
  },
  {
   "cell_type": "code",
   "execution_count": 7,
   "id": "774743e0-8cf0-4dbb-a6fa-006ff076bb9e",
   "metadata": {
    "id": "774743e0-8cf0-4dbb-a6fa-006ff076bb9e"
   },
   "outputs": [],
   "source": [
    "#code here\n",
    "import string\n",
    "X_dev = [s.translate(str.maketrans('', '', string.punctuation)) for s in X_dev]\n",
    "X_test = [s.translate(str.maketrans('', '', string.punctuation)) for s in X_test]"
   ]
  },
  {
   "cell_type": "markdown",
   "id": "b2f1af18-0c07-4ffb-994e-daead4740a53",
   "metadata": {
    "id": "b2f1af18-0c07-4ffb-994e-daead4740a53"
   },
   "source": [
    "1.8) Apply stemming on the development & test datasets using Porter algorithm"
   ]
  },
  {
   "cell_type": "code",
   "execution_count": 8,
   "id": "c84a52f6-a62a-4033-8d1d-239ff6904248",
   "metadata": {
    "id": "c84a52f6-a62a-4033-8d1d-239ff6904248"
   },
   "outputs": [],
   "source": [
    "#code here\n",
    "from nltk.stem import PorterStemmer\n",
    "porter = PorterStemmer()\n",
    "def stemmer(sent):\n",
    "    words = word_tokenize(sent)\n",
    "    words = [porter.stem(w) for w in words]\n",
    "    return ' '.join(words)\n",
    "X_dev = [stemmer(x) for x in X_dev]\n",
    "X_test = [stemmer(x) for x in X_test]"
   ]
  },
  {
   "cell_type": "markdown",
   "id": "687e23ef-dafd-4183-b2f1-86089e281dd8",
   "metadata": {
    "id": "687e23ef-dafd-4183-b2f1-86089e281dd8"
   },
   "source": [
    "#### Model training"
   ]
  },
  {
   "cell_type": "markdown",
   "id": "0c40fa44-01ad-4788-98b9-9c8f0c1252ef",
   "metadata": {
    "id": "0c40fa44-01ad-4788-98b9-9c8f0c1252ef"
   },
   "source": [
    "1.9) Create bag of words features for each tweet in the development dataset"
   ]
  },
  {
   "cell_type": "code",
   "execution_count": 9,
   "id": "c17c6b99-9dfb-4d30-9e03-d596a9da880a",
   "metadata": {
    "id": "c17c6b99-9dfb-4d30-9e03-d596a9da880a"
   },
   "outputs": [],
   "source": [
    "#code here\n",
    "from sklearn.feature_extraction.text import CountVectorizer\n",
    "vector = CountVectorizer()\n",
    "X_dev_bag = vector.fit_transform(X_dev)\n",
    "X_test_bag = vector.transform(X_test)"
   ]
  },
  {
   "cell_type": "markdown",
   "id": "4baf65cd-019b-4ff4-b93c-3ca8cfffca8e",
   "metadata": {
    "id": "4baf65cd-019b-4ff4-b93c-3ca8cfffca8e"
   },
   "source": [
    "1.10) Train a supervised learning model of choice on the development dataset"
   ]
  },
  {
   "cell_type": "code",
   "execution_count": 10,
   "id": "3433a6b0-408d-462e-9072-3495b21bc97b",
   "metadata": {
    "id": "3433a6b0-408d-462e-9072-3495b21bc97b"
   },
   "outputs": [
    {
     "data": {
      "text/plain": [
       "LogisticRegression()"
      ]
     },
     "execution_count": 10,
     "metadata": {},
     "output_type": "execute_result"
    }
   ],
   "source": [
    "#code here\n",
    "from sklearn.linear_model import LogisticRegression\n",
    "lr_bag = LogisticRegression()\n",
    "lr_bag.fit(X_dev_bag,y_dev)"
   ]
  },
  {
   "cell_type": "markdown",
   "id": "1c16c6f6-7ab2-4d7a-b9dc-098a72381340",
   "metadata": {
    "id": "1c16c6f6-7ab2-4d7a-b9dc-098a72381340"
   },
   "source": [
    "1.11) Create TF-IDF features for each tweet in the development dataset"
   ]
  },
  {
   "cell_type": "code",
   "execution_count": 11,
   "id": "7b417843-ffc4-4614-b2ef-964f8ec3e510",
   "metadata": {
    "id": "7b417843-ffc4-4614-b2ef-964f8ec3e510"
   },
   "outputs": [],
   "source": [
    "#code here\n",
    "from sklearn.feature_extraction.text import TfidfVectorizer\n",
    "tf_vector = TfidfVectorizer()\n",
    "X_dev_tf = tf_vector.fit_transform(X_dev)\n",
    "X_test_tf = tf_vector.transform(X_test)"
   ]
  },
  {
   "cell_type": "markdown",
   "id": "ea3c9776-aad9-4eda-b3c2-d9f6b3e52427",
   "metadata": {
    "id": "ea3c9776-aad9-4eda-b3c2-d9f6b3e52427"
   },
   "source": [
    "1.12) Train the same supervised learning algorithm on the development dataset with TF-IDF features"
   ]
  },
  {
   "cell_type": "code",
   "execution_count": 12,
   "id": "b8c7fe8b-61de-4daa-a338-74295a4902ce",
   "metadata": {
    "id": "b8c7fe8b-61de-4daa-a338-74295a4902ce"
   },
   "outputs": [
    {
     "data": {
      "text/plain": [
       "LogisticRegression()"
      ]
     },
     "execution_count": 12,
     "metadata": {},
     "output_type": "execute_result"
    }
   ],
   "source": [
    "#code here\n",
    "lr_tf = LogisticRegression()\n",
    "lr_tf.fit(X_dev_tf,y_dev)"
   ]
  },
  {
   "cell_type": "markdown",
   "id": "ab0129e7-a0ea-473e-9ad1-667b44a13a92",
   "metadata": {
    "id": "ab0129e7-a0ea-473e-9ad1-667b44a13a92"
   },
   "source": [
    "1.13) Compare the performance of the two models on the test dataset"
   ]
  },
  {
   "cell_type": "code",
   "execution_count": 13,
   "id": "a64ca176-dab8-4965-a85d-dcf9dc013717",
   "metadata": {
    "id": "a64ca176-dab8-4965-a85d-dcf9dc013717"
   },
   "outputs": [
    {
     "name": "stdout",
     "output_type": "stream",
     "text": [
      "Score of model with bag-of-words features: 0.7725\n",
      "Score of model with TF-IDF features: 0.7705\n"
     ]
    }
   ],
   "source": [
    "#code here\n",
    "print(f\"Score of model with bag-of-words features: {lr_bag.score(X_test_bag,y_test)}\")\n",
    "print(f\"Score of model with TF-IDF features: {lr_tf.score(X_test_tf,y_test)}\")"
   ]
  },
  {
   "cell_type": "markdown",
   "id": "033ce78b",
   "metadata": {},
   "source": [
    "The performance of the model with bag-of-words features is slightly better than model with TF-IDF features."
   ]
  }
 ],
 "metadata": {
  "colab": {
   "name": "HW4-NLP.ipynb",
   "provenance": []
  },
  "kernelspec": {
   "display_name": "eods-f21",
   "language": "python",
   "name": "eods-f21"
  },
  "language_info": {
   "codemirror_mode": {
    "name": "ipython",
    "version": 3
   },
   "file_extension": ".py",
   "mimetype": "text/x-python",
   "name": "python",
   "nbconvert_exporter": "python",
   "pygments_lexer": "ipython3",
   "version": "3.8.10"
  }
 },
 "nbformat": 4,
 "nbformat_minor": 5
}
